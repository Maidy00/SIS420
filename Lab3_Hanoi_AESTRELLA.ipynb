{
 "cells": [
  {
   "cell_type": "code",
   "execution_count": 44,
   "metadata": {},
   "outputs": [],
   "source": [
    "\n",
    "from busquedas_02 import ProblemaBusqueda, aestrella"
   ]
  },
  {
   "cell_type": "code",
   "execution_count": 45,
   "metadata": {},
   "outputs": [],
   "source": [
    "# la librería usa un set() como memoria\n",
    "# no se pueden añadir objetos mutables a un set()\n",
    "\n",
    "estado_inicial = (\n",
    "    (3, 2, 1),\n",
    "    (),\n",
    "    ())\n",
    "\n",
    "estado_final = (\n",
    "    (),\n",
    "    (),\n",
    "    (3, 2, 1))"
   ]
  },
  {
   "cell_type": "code",
   "execution_count": 46,
   "metadata": {},
   "outputs": [
    {
     "data": {
      "text/plain": [
       "[[3, 2, 1], [], []]"
      ]
     },
     "execution_count": 46,
     "metadata": {},
     "output_type": "execute_result"
    }
   ],
   "source": [
    "# convertimos el estado a una lista de listas\n",
    "[list(pila) for pila in estado_inicial]"
   ]
  },
  {
   "cell_type": "code",
   "execution_count": 47,
   "metadata": {
    "scrolled": true
   },
   "outputs": [],
   "source": [
    "def intercambio(estado, origen, dest):\n",
    "    # convertir a lista de listas\n",
    "    pilas = [list(p) for p in estado]\n",
    "    \n",
    "    if len(pilas[dest]) == 0:\n",
    "        disco = pilas[origen].pop()\n",
    "        pilas[dest].append(disco)\n",
    "\n",
    "    elif pilas[dest][-1] > pilas[origen][-1]:\n",
    "        disco = pilas[origen].pop()\n",
    "        pilas[dest].append(disco)\n",
    "\n",
    "    # convertir a lista de tuplas\n",
    "    estado = [tuple(pila) for pila in pilas]    \n",
    "    return tuple(estado)"
   ]
  },
  {
   "cell_type": "code",
   "execution_count": 48,
   "metadata": {
    "scrolled": true
   },
   "outputs": [],
   "source": [
    "class Hanoi(ProblemaBusqueda):\n",
    "    def acciones(self, estado):\n",
    "        acciones = []\n",
    "        \n",
    "        indices = [0, 1, 2]\n",
    "        for origen in indices:\n",
    "            if len(estado[origen]) > 0:\n",
    "                for dest in indices:\n",
    "                    accion = intercambio(estado, origen, dest)\n",
    "                    if accion != estado:\n",
    "                        acciones.append(accion)\n",
    "        \n",
    "        return acciones\n",
    "\n",
    "    def resultado(self, estado, accion):\n",
    "        return accion\n",
    "    \n",
    "    def es_objetivo(self, estado):\n",
    "        '''Devuelve True si un estado es el estado_objetivo.'''\n",
    "        return estado == estado_final\n",
    "    def numDisksInRod(self, rodNum):\n",
    "        return len(self.rods[rodNum])\n",
    "    def cost(self):\n",
    "        \"\"\"\n",
    "        The cost is path length so far (number of steps) + heuristic (no. of\n",
    "        disks left on left rod).\n",
    "\n",
    "        NOTE: We don't include the zeroth step (the initial state) in the cost\n",
    "        \"\"\"\n",
    "        if len(self) > 0:\n",
    "            endOfPath = self[-1]\n",
    "            heuristic = endOfPath.numDisksInRod(0)\n",
    "            return len(self) - 1 + heuristic\n",
    "        else:\n",
    "            return 0\n",
    "        \n",
    "    def __lt__(self, other):\n",
    "        return self.cost() < other.cost()"
   ]
  },
  {
   "cell_type": "code",
   "execution_count": 49,
   "metadata": {},
   "outputs": [
    {
     "name": "stdout",
     "output_type": "stream",
     "text": [
      "Wall time: 25 ms\n"
     ]
    },
    {
     "data": {
      "text/plain": [
       "Node <((), (), (3, 2, 1))>"
      ]
     },
     "execution_count": 49,
     "metadata": {},
     "output_type": "execute_result"
    }
   ],
   "source": [
    "%%time \n",
    "# ^ magic para medir el tiempo que tarda la celda\n",
    "resultado = aestrella(Hanoi(estado_inicial))\n",
    "resultado"
   ]
  },
  {
   "cell_type": "code",
   "execution_count": null,
   "metadata": {},
   "outputs": [],
   "source": []
  }
 ],
 "metadata": {
  "kernelspec": {
   "display_name": "Python 3",
   "language": "python",
   "name": "python3"
  },
  "language_info": {
   "codemirror_mode": {
    "name": "ipython",
    "version": 3
   },
   "file_extension": ".py",
   "mimetype": "text/x-python",
   "name": "python",
   "nbconvert_exporter": "python",
   "pygments_lexer": "ipython3",
   "version": "3.8.3"
  }
 },
 "nbformat": 4,
 "nbformat_minor": 4
}
